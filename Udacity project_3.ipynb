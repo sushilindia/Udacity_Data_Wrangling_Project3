{
 "cells": [
  {
   "cell_type": "markdown",
   "metadata": {},
   "source": [
    "# Data Wrangling Project"
   ]
  },
  {
   "cell_type": "markdown",
   "metadata": {},
   "source": [
    "## Objectice: Loading and importing data into Mysql database to  perform queries .\n",
    "\n",
    "\n",
    "### Map Area: \n",
    "**Ahmedabad,India**\n",
    "\n",
    "\n"
   ]
  },
  {
   "cell_type": "markdown",
   "metadata": {},
   "source": [
    "### Imports and Data Audit"
   ]
  },
  {
   "cell_type": "code",
   "execution_count": 1,
   "metadata": {},
   "outputs": [
    {
     "ename": "ModuleNotFoundError",
     "evalue": "No module named 'cerberus'",
     "output_type": "error",
     "traceback": [
      "\u001b[0;31m---------------------------------------------------------------------------\u001b[0m",
      "\u001b[0;31mModuleNotFoundError\u001b[0m                       Traceback (most recent call last)",
      "\u001b[0;32m<ipython-input-1-9275b3e436ed>\u001b[0m in \u001b[0;36m<module>\u001b[0;34m()\u001b[0m\n\u001b[1;32m      8\u001b[0m \u001b[0;32mimport\u001b[0m \u001b[0mcsv\u001b[0m\u001b[0;34m\u001b[0m\u001b[0m\n\u001b[1;32m      9\u001b[0m \u001b[0;32mimport\u001b[0m \u001b[0mcopy\u001b[0m\u001b[0;34m\u001b[0m\u001b[0m\n\u001b[0;32m---> 10\u001b[0;31m \u001b[0;32mimport\u001b[0m \u001b[0mcerberus\u001b[0m\u001b[0;34m\u001b[0m\u001b[0m\n\u001b[0m\u001b[1;32m     11\u001b[0m \u001b[0;32mimport\u001b[0m \u001b[0mschema\u001b[0m\u001b[0;34m\u001b[0m\u001b[0m\n\u001b[1;32m     12\u001b[0m \u001b[0;32mimport\u001b[0m \u001b[0msqlite3\u001b[0m\u001b[0;34m\u001b[0m\u001b[0m\n",
      "\u001b[0;31mModuleNotFoundError\u001b[0m: No module named 'cerberus'"
     ]
    }
   ],
   "source": [
    "import os\n",
    "import collections\n",
    "import pprint\n",
    "import xml.etree.cElementTree as ET\n",
    "import re\n",
    "import codecs\n",
    "from unittest import TestCase\n",
    "import csv\n",
    "import copy\n",
    "import cerberus\n",
    "import schema\n",
    "import sqlite3\n",
    "from IPython.display import display, HTML\n",
    "import pandas as pd\n",
    "import matplotlib.pyplot as plt\n",
    "%matplotlib inline\n",
    "\n",
    "datadir = \"/home/sushil/Downloads\"\n",
    "datafile = \"ahmedabad.osm\"\n",
    "ahmedabad_osm_file = os.path.join(datadir, datafile)\n",
    "ahmedabad_osm_file"
   ]
  },
  {
   "cell_type": "markdown",
   "metadata": {},
   "source": [
    "### Parse through the Ahmedabad,India dataset with ElementTree and count the number of unique element types to get an overall understanding of the data by using count_tags function."
   ]
  },
  {
   "cell_type": "code",
   "execution_count": 2,
   "metadata": {},
   "outputs": [
    {
     "ename": "NameError",
     "evalue": "name 'ahmedabad_osm_file' is not defined",
     "output_type": "error",
     "traceback": [
      "\u001b[0;31m---------------------------------------------------------------------------\u001b[0m",
      "\u001b[0;31mNameError\u001b[0m                                 Traceback (most recent call last)",
      "\u001b[0;32m<ipython-input-2-645f2d9f5b8d>\u001b[0m in \u001b[0;36m<module>\u001b[0;34m()\u001b[0m\n\u001b[1;32m     10\u001b[0m     \u001b[0;32mreturn\u001b[0m \u001b[0mtags\u001b[0m\u001b[0;34m\u001b[0m\u001b[0m\n\u001b[1;32m     11\u001b[0m \u001b[0;34m\u001b[0m\u001b[0m\n\u001b[0;32m---> 12\u001b[0;31m \u001b[0mahm_tags\u001b[0m \u001b[0;34m=\u001b[0m \u001b[0mcount_tags\u001b[0m\u001b[0;34m(\u001b[0m\u001b[0mahmedabad_osm_file\u001b[0m\u001b[0;34m)\u001b[0m\u001b[0;34m\u001b[0m\u001b[0m\n\u001b[0m\u001b[1;32m     13\u001b[0m \u001b[0mpprint\u001b[0m\u001b[0;34m.\u001b[0m\u001b[0mpprint\u001b[0m\u001b[0;34m(\u001b[0m\u001b[0mahm_tags\u001b[0m\u001b[0;34m)\u001b[0m\u001b[0;34m\u001b[0m\u001b[0m\n\u001b[1;32m     14\u001b[0m \u001b[0;34m\u001b[0m\u001b[0m\n",
      "\u001b[0;31mNameError\u001b[0m: name 'ahmedabad_osm_file' is not defined"
     ]
    }
   ],
   "source": [
    "#Parse through to count the number of unique element types to understand overall structure.\n",
    "\n",
    "def count_tags(filename):\n",
    "    tags = {}\n",
    "    for event, elem in ET.iterparse(filename):\n",
    "        if elem.tag in tags:\n",
    "            tags[elem.tag] += 1\n",
    "        else:\n",
    "            tags[elem.tag] = 1\n",
    "    return tags\n",
    "\n",
    "ahm_tags = count_tags(ahmedabad_osm_file)\n",
    "pprint.pprint(ahm_tags)\n",
    "\n"
   ]
  },
  {
   "cell_type": "markdown",
   "metadata": {},
   "source": [
    "### Patterns in the Tags"
   ]
  },
  {
   "cell_type": "code",
   "execution_count": 91,
   "metadata": {},
   "outputs": [
    {
     "name": "stdout",
     "output_type": "stream",
     "text": [
      "{'lower': 96267, 'lower_colon': 1995, 'other': 34, 'problemchars': 7}\n"
     ]
    }
   ],
   "source": [
    "import re\n",
    "\n",
    "lower = re.compile(r'^([a-z]|_)*$')\n",
    "lower_colon = re.compile(r'^([a-z]|_)*:([a-z]|_)*$')\n",
    "problemchars = re.compile(r'[=\\+/&<>;\\'\"\\?%#$@\\,\\. \\t\\r\\n]')\n",
    "\n",
    "\n",
    "def key_type(element, keys):\n",
    "    if element.tag == \"tag\":\n",
    "        for tag in element.iter('tag'):\n",
    "            k = tag.get('k')\n",
    "            if lower.search(k):\n",
    "                keys['lower'] += 1\n",
    "            elif lower_colon.search(k):\n",
    "                keys['lower_colon'] += 1\n",
    "            elif problemchars.search(k):\n",
    "                keys['problemchars'] += 1\n",
    "            else:\n",
    "                keys['other'] += 1\n",
    "    return keys\n",
    "\n",
    "\n",
    "def process_map(filename):\n",
    "    keys = {\"lower\": 0, \"lower_colon\": 0, \"problemchars\": 0, \"other\": 0}\n",
    "    for _, element in ET.iterparse(filename):\n",
    "        keys = key_type(element, keys)\n",
    "\n",
    "    return keys\n",
    "\n",
    "cal_keys = process_map(ahmedabad_osm_file)\n",
    "pprint.pprint(cal_keys)"
   ]
  },
  {
   "cell_type": "markdown",
   "metadata": {},
   "source": [
    "### Unique users contribution to the map in Ahmedabad area."
   ]
  },
  {
   "cell_type": "code",
   "execution_count": 92,
   "metadata": {},
   "outputs": [
    {
     "name": "stdout",
     "output_type": "stream",
     "text": [
      "The total unique contributors: 359\n"
     ]
    }
   ],
   "source": [
    "#people invovlved in the map editing.\n",
    "def process_map(filename):\n",
    "    users = set()\n",
    "    for _, element in ET.iterparse(filename):\n",
    "        for e in element:\n",
    "            if 'uid' in e.attrib:\n",
    "                users.add(e.attrib['uid'])\n",
    "    return users\n",
    "ahm_users = process_map(ahmedabad_osm_file)\n",
    "print\"The total unique contributors:\",len((ahm_users))"
   ]
  },
  {
   "cell_type": "markdown",
   "metadata": {},
   "source": [
    "### Prepare data for Database - SQL\n",
    "**Build CSV file from OSM. Parse, clean and shape data.**"
   ]
  },
  {
   "cell_type": "code",
   "execution_count": 141,
   "metadata": {
    "collapsed": true
   },
   "outputs": [],
   "source": [
    "#creating 5 different csv file for particular element type\n",
    "Nodes_File = \"nodes.csv\"\n",
    "Node_Tags_File = \"nodes_tags.csv\"\n",
    "Ways_File= \"ways.csv\"\n",
    "Way_Nodes_File = \"ways_nodes.csv\"\n",
    "Way_Tags_File = \"ways_tags.csv\"\n",
    "\n",
    "Lower_colon = re.compile(r'^([a-z]|_)+:([a-z]|_)+')\n",
    "Problem_characters = re.compile(r'[=\\+/&<>;\\'\"\\?%#$@\\,\\. \\t\\r\\n]')\n",
    "\n",
    "SCHEMA = schema.Schema\n",
    "\n",
    "#mentioning the header for each csv file\n",
    "NodeFields = ['id', 'lat', 'lon', 'user', 'uid', 'version', 'changeset', 'timestamp']\n",
    "Node_Tag_Fields = ['id', 'key', 'value', 'type']\n",
    "WayFields = ['id', 'user', 'uid', 'version', 'changeset', 'timestamp']\n",
    "Way_Tag_Fields = ['id', 'key', 'value', 'type']\n",
    "Way_Node_Fields = ['id', 'node_id', 'position']\n",
    "\n",
    "\n",
    "def elements_shape(element, node_attr_fields = NodeFields, way_attr_fields = WayFields,\n",
    "                  problem_chars = Problem_characters, default_tag_type = 'regular'):\n",
    "    \"\"\"Clean and shape node or way XML element to Python dict\"\"\"\n",
    "    node_attribs = {}\n",
    "    way_attribs = {}\n",
    "    way_nodes = []\n",
    "    tags = []  # In both node and way elements this handles the secondary tags\n",
    "    if element.tag == 'node':\n",
    "        for node in NodeFields:\n",
    "            node_attribs[node] = element.attrib[node]\n",
    "        for child in element:\n",
    "            tag = {}\n",
    "            if Problem_characters.search(child.attrib[\"k\"]):\n",
    "                continue\n",
    "        \n",
    "            elif Lower_colon.search(child.attrib[\"k\"]):\n",
    "                tag_type = child.attrib[\"k\"].split(':',1)[0]\n",
    "                tag_key = child.attrib[\"k\"].split(':',1)[1]\n",
    "                tag[\"key\"] = tag_key\n",
    "                if tag_type:\n",
    "                    tag[\"type\"] = tag_type\n",
    "                else:\n",
    "                    tag[\"type\"] = 'regular'\n",
    "            \n",
    "                tag[\"id\"] = element.attrib[\"id\"]\n",
    "                tag[\"value\"] = child.attrib[\"v\"]\n",
    "            else:\n",
    "                tag[\"value\"] = child.attrib[\"v\"]\n",
    "                tag[\"key\"] = child.attrib[\"k\"]\n",
    "                tag[\"type\"] = \"regular\"\n",
    "                tag[\"id\"] = element.attrib[\"id\"]\n",
    "            if tag:\n",
    "                tags.append(tag)\n",
    "        return {'node': node_attribs, 'node_tags': tags}\n",
    "    elif element.tag == 'way':\n",
    "        for way in WayFields:\n",
    "            way_attribs[way] = element.attrib[way]\n",
    "        for child in element:\n",
    "            nd = {}\n",
    "            tag = {}\n",
    "            if child.tag == 'tag':\n",
    "                if Problem_characters.search(child.attrib[\"k\"]):\n",
    "                    continue\n",
    "                elif Lower_colon.search(child.attrib[\"k\"]):\n",
    "                    tag_type = child.attrib[\"k\"].split(':',1)[0]\n",
    "                    tag_key = child.attrib[\"k\"].split(':',1)[1]\n",
    "                    tag[\"key\"] = tag_key\n",
    "                    if tag_type:\n",
    "                        tag[\"type\"] = tag_type\n",
    "                    else:\n",
    "                        tag[\"type\"] = 'regular'\n",
    "                    tag[\"id\"] = element.attrib[\"id\"]\n",
    "                    tag[\"value\"] = child.attrib[\"v\"]\n",
    "    \n",
    "                else:\n",
    "                    tag[\"value\"] = child.attrib[\"v\"]\n",
    "                    tag[\"key\"] = child.attrib[\"k\"]\n",
    "                    tag[\"type\"] = \"regular\"\n",
    "                    tag[\"id\"] = element.attrib[\"id\"]\n",
    "                if tag:\n",
    "                    tags.append(tag)\n",
    "                    \n",
    "            elif child.tag == 'nd':\n",
    "                nd['id'] = element.attrib[\"id\"]\n",
    "                nd['node_id'] = child.attrib[\"ref\"]\n",
    "                nd['position'] = len(way_nodes)\n",
    "            \n",
    "                if nd:\n",
    "                    way_nodes.append(nd)\n",
    "            else:\n",
    "                continue\n",
    "        return {'way': way_attribs, 'way_nodes': way_nodes, 'way_tags': tags}\n",
    "def get_element(osm_file, tags=('node', 'way', 'relation')):\n",
    "    \"\"\"Yield element if it is the right type of tag\"\"\"\n",
    "    context = iter(ET.iterparse(ahmedabad_osm_file, events=('start', 'end')))\n",
    "    _, root = next(context)\n",
    "    for event, elem in context:\n",
    "        if event == 'end' and elem.tag in tags:\n",
    "            yield elem\n",
    "            root.clear()\n",
    "\n",
    "\n",
    "def validate_element(element, validator, schema=SCHEMA):\n",
    "    \"\"\"Raise ValidationError if element does not match schema\"\"\"\n",
    "    if validator.validate(element, schema) is not True:\n",
    "        field, errors = next(validator.errors.iteritems())\n",
    "        message_string = \"\\nElement of type '{0}' has the following errors:\\n{1}\"\n",
    "        error_strings = (\n",
    "            \"{0}: {1}\".format(k, v if isinstance(v, str) else \", \".join(v))\n",
    "            for k, v in errors.iteritems()\n",
    "        )\n",
    "        raise cerberus.ValidationError(\n",
    "            message_string.format(field, \"\\n\".join(error_strings))\n",
    "        )\n",
    "\n",
    "\n",
    "class UnicodeDictWriter(csv.DictWriter, object):\n",
    "    \"\"\"Extend csv.DictWriter to handle Unicode input\"\"\"\n",
    "\n",
    "    def writerow(self, row):\n",
    "        super(UnicodeDictWriter, self).writerow({\n",
    "            k: (v.encode('utf-8') if isinstance(v, unicode) else v) for k, v in row.iteritems()\n",
    "        })\n",
    "\n",
    "    def writerows(self, rows):\n",
    "        for row in rows:\n",
    "            self.writerow(row)\n",
    "\n",
    "def process_users(file_in, validate):\n",
    "    \"\"\"Iteratively process each XML element and write to csv(s)\"\"\"\n",
    "    with codecs.open(Nodes_File, 'w') as nodes_file, \\\n",
    "        codecs.open(Node_Tags_File, 'w') as nodes_tags_file, \\\n",
    "        codecs.open(Ways_File, 'w') as ways_file, \\\n",
    "        codecs.open(Way_Nodes_File, 'w') as way_nodes_file, \\\n",
    "        codecs.open(Way_Tags_File, 'w') as way_tags_file:\n",
    "\n",
    "        nodes_writer = UnicodeDictWriter(nodes_file, NodeFields)\n",
    "        node_tags_writer = UnicodeDictWriter(nodes_tags_file, Node_Tag_Fields)\n",
    "        ways_writer = UnicodeDictWriter(ways_file, WayFields)\n",
    "        way_nodes_writer = UnicodeDictWriter(way_nodes_file, Way_Node_Fields)\n",
    "        way_tags_writer = UnicodeDictWriter(way_tags_file, Way_Tag_Fields)\n",
    "\n",
    "        nodes_writer.writeheader()\n",
    "        node_tags_writer.writeheader()\n",
    "        ways_writer.writeheader()\n",
    "        way_nodes_writer.writeheader()\n",
    "        way_tags_writer.writeheader()\n",
    "\n",
    "        validator = cerberus.Validator()\n",
    "\n",
    "        for element in get_element(file_in, tags=('node', 'way')):\n",
    "            el = elements_shape(element)\n",
    "            if el:\n",
    "                if validate is True:\n",
    "                    validate_element(el, validator)\n",
    "\n",
    "                if element.tag == 'node':\n",
    "                    nodes_writer.writerow(el['node'])\n",
    "                    node_tags_writer.writerows(el['node_tags'])\n",
    "                elif element.tag == 'way':\n",
    "                    ways_writer.writerow(el['way'])\n",
    "                    way_nodes_writer.writerows(el['way_nodes'])\n",
    "                    way_tags_writer.writerows(el['way_tags'])\n",
    "\n",
    "if __name__ == '__main__':\n",
    "    process_users(ahmedabad_osm_file, validate = False)\n",
    "    sqlite_file = 'project_ahm.db'\n",
    "    con = sqlite3.connect(sqlite_file)\n",
    "    con.text_factory = str\n",
    "    cur = con.cursor()"
   ]
  },
  {
   "cell_type": "markdown",
   "metadata": {},
   "source": [
    "### Dislpaying data in tabular format\n",
    "** i.Displaying the contents of node data**"
   ]
  },
  {
   "cell_type": "code",
   "execution_count": 142,
   "metadata": {},
   "outputs": [
    {
     "data": {
      "text/html": [
       "<div>\n",
       "<table border=\"1\" class=\"dataframe\">\n",
       "  <thead>\n",
       "    <tr style=\"text-align: right;\">\n",
       "      <th></th>\n",
       "      <th>id</th>\n",
       "      <th>lat</th>\n",
       "      <th>lon</th>\n",
       "      <th>user</th>\n",
       "      <th>uid</th>\n",
       "      <th>version</th>\n",
       "      <th>changeset</th>\n",
       "      <th>timestamp</th>\n",
       "    </tr>\n",
       "  </thead>\n",
       "  <tbody>\n",
       "    <tr>\n",
       "      <th>0</th>\n",
       "      <td>245711024</td>\n",
       "      <td>22.987030</td>\n",
       "      <td>72.494131</td>\n",
       "      <td>vkvora</td>\n",
       "      <td>697960</td>\n",
       "      <td>3</td>\n",
       "      <td>12130592</td>\n",
       "      <td>2012-07-06T13:38:12Z</td>\n",
       "    </tr>\n",
       "    <tr>\n",
       "      <th>1</th>\n",
       "      <td>245711047</td>\n",
       "      <td>22.990788</td>\n",
       "      <td>72.380985</td>\n",
       "      <td>katpatuka</td>\n",
       "      <td>17497</td>\n",
       "      <td>3</td>\n",
       "      <td>3689207</td>\n",
       "      <td>2010-01-23T06:03:24Z</td>\n",
       "    </tr>\n",
       "    <tr>\n",
       "      <th>2</th>\n",
       "      <td>245711197</td>\n",
       "      <td>23.021624</td>\n",
       "      <td>72.579707</td>\n",
       "      <td>angys</td>\n",
       "      <td>3191182</td>\n",
       "      <td>27</td>\n",
       "      <td>44680444</td>\n",
       "      <td>2016-12-26T11:39:01Z</td>\n",
       "    </tr>\n",
       "    <tr>\n",
       "      <th>3</th>\n",
       "      <td>245711252</td>\n",
       "      <td>23.027743</td>\n",
       "      <td>72.600285</td>\n",
       "      <td>PlaneMad</td>\n",
       "      <td>1306</td>\n",
       "      <td>7</td>\n",
       "      <td>28690303</td>\n",
       "      <td>2015-02-07T20:32:10Z</td>\n",
       "    </tr>\n",
       "    <tr>\n",
       "      <th>4</th>\n",
       "      <td>245711347</td>\n",
       "      <td>23.051768</td>\n",
       "      <td>72.627162</td>\n",
       "      <td>Harry Wood</td>\n",
       "      <td>1611</td>\n",
       "      <td>2</td>\n",
       "      <td>585956</td>\n",
       "      <td>2008-12-24T18:05:08Z</td>\n",
       "    </tr>\n",
       "  </tbody>\n",
       "</table>\n",
       "</div>"
      ],
      "text/plain": [
       "          id        lat        lon        user      uid  version  changeset  \\\n",
       "0  245711024  22.987030  72.494131      vkvora   697960        3   12130592   \n",
       "1  245711047  22.990788  72.380985   katpatuka    17497        3    3689207   \n",
       "2  245711197  23.021624  72.579707       angys  3191182       27   44680444   \n",
       "3  245711252  23.027743  72.600285    PlaneMad     1306        7   28690303   \n",
       "4  245711347  23.051768  72.627162  Harry Wood     1611        2     585956   \n",
       "\n",
       "              timestamp  \n",
       "0  2012-07-06T13:38:12Z  \n",
       "1  2010-01-23T06:03:24Z  \n",
       "2  2016-12-26T11:39:01Z  \n",
       "3  2015-02-07T20:32:10Z  \n",
       "4  2008-12-24T18:05:08Z  "
      ]
     },
     "execution_count": 142,
     "metadata": {},
     "output_type": "execute_result"
    }
   ],
   "source": [
    "df1=pd.read_csv('/root/nodes.csv')\n",
    "df1.head()"
   ]
  },
  {
   "cell_type": "markdown",
   "metadata": {},
   "source": [
    "**ii.Displaying the contents of node_tags data**"
   ]
  },
  {
   "cell_type": "code",
   "execution_count": 205,
   "metadata": {},
   "outputs": [
    {
     "data": {
      "text/html": [
       "<div>\n",
       "<table border=\"1\" class=\"dataframe\">\n",
       "  <thead>\n",
       "    <tr style=\"text-align: right;\">\n",
       "      <th></th>\n",
       "      <th>id</th>\n",
       "      <th>key</th>\n",
       "      <th>value</th>\n",
       "      <th>type</th>\n",
       "    </tr>\n",
       "  </thead>\n",
       "  <tbody>\n",
       "    <tr>\n",
       "      <th>0</th>\n",
       "      <td>245711024</td>\n",
       "      <td>source</td>\n",
       "      <td>AND</td>\n",
       "      <td>regular</td>\n",
       "    </tr>\n",
       "    <tr>\n",
       "      <th>1</th>\n",
       "      <td>245711197</td>\n",
       "      <td>ele</td>\n",
       "      <td>53</td>\n",
       "      <td>regular</td>\n",
       "    </tr>\n",
       "    <tr>\n",
       "      <th>2</th>\n",
       "      <td>245711197</td>\n",
       "      <td>name</td>\n",
       "      <td>Ahmedabad</td>\n",
       "      <td>regular</td>\n",
       "    </tr>\n",
       "    <tr>\n",
       "      <th>3</th>\n",
       "      <td>245711197</td>\n",
       "      <td>place</td>\n",
       "      <td>city</td>\n",
       "      <td>regular</td>\n",
       "    </tr>\n",
       "    <tr>\n",
       "      <th>4</th>\n",
       "      <td>245711197</td>\n",
       "      <td>capital</td>\n",
       "      <td>5</td>\n",
       "      <td>regular</td>\n",
       "    </tr>\n",
       "  </tbody>\n",
       "</table>\n",
       "</div>"
      ],
      "text/plain": [
       "          id      key      value     type\n",
       "0  245711024   source        AND  regular\n",
       "1  245711197      ele         53  regular\n",
       "2  245711197     name  Ahmedabad  regular\n",
       "3  245711197    place       city  regular\n",
       "4  245711197  capital          5  regular"
      ]
     },
     "execution_count": 205,
     "metadata": {},
     "output_type": "execute_result"
    }
   ],
   "source": [
    "df2=pd.read_csv('/root/nodes_tags.csv')\n",
    "df2.head()"
   ]
  },
  {
   "cell_type": "markdown",
   "metadata": {},
   "source": [
    "**iii.Displaying the contents of Ways data **"
   ]
  },
  {
   "cell_type": "code",
   "execution_count": 144,
   "metadata": {},
   "outputs": [
    {
     "data": {
      "text/html": [
       "<div>\n",
       "<table border=\"1\" class=\"dataframe\">\n",
       "  <thead>\n",
       "    <tr style=\"text-align: right;\">\n",
       "      <th></th>\n",
       "      <th>id</th>\n",
       "      <th>user</th>\n",
       "      <th>uid</th>\n",
       "      <th>version</th>\n",
       "      <th>changeset</th>\n",
       "      <th>timestamp</th>\n",
       "    </tr>\n",
       "  </thead>\n",
       "  <tbody>\n",
       "    <tr>\n",
       "      <th>0</th>\n",
       "      <td>22826379</td>\n",
       "      <td>Srihari Thalla</td>\n",
       "      <td>2815653</td>\n",
       "      <td>4</td>\n",
       "      <td>49023075</td>\n",
       "      <td>2017-05-27T11:56:44Z</td>\n",
       "    </tr>\n",
       "    <tr>\n",
       "      <th>1</th>\n",
       "      <td>22866823</td>\n",
       "      <td>Maarten Deen</td>\n",
       "      <td>9176</td>\n",
       "      <td>12</td>\n",
       "      <td>12932711</td>\n",
       "      <td>2012-08-31T15:58:03Z</td>\n",
       "    </tr>\n",
       "    <tr>\n",
       "      <th>2</th>\n",
       "      <td>22867000</td>\n",
       "      <td>ratrun</td>\n",
       "      <td>474183</td>\n",
       "      <td>24</td>\n",
       "      <td>49595531</td>\n",
       "      <td>2017-06-16T15:58:28Z</td>\n",
       "    </tr>\n",
       "    <tr>\n",
       "      <th>3</th>\n",
       "      <td>22867003</td>\n",
       "      <td>kailashdhirwani</td>\n",
       "      <td>4112063</td>\n",
       "      <td>21</td>\n",
       "      <td>41572536</td>\n",
       "      <td>2016-08-20T08:56:44Z</td>\n",
       "    </tr>\n",
       "    <tr>\n",
       "      <th>4</th>\n",
       "      <td>28842671</td>\n",
       "      <td>Heinz_V</td>\n",
       "      <td>91490</td>\n",
       "      <td>19</td>\n",
       "      <td>21051608</td>\n",
       "      <td>2014-03-11T19:47:18Z</td>\n",
       "    </tr>\n",
       "  </tbody>\n",
       "</table>\n",
       "</div>"
      ],
      "text/plain": [
       "         id             user      uid  version  changeset  \\\n",
       "0  22826379   Srihari Thalla  2815653        4   49023075   \n",
       "1  22866823     Maarten Deen     9176       12   12932711   \n",
       "2  22867000           ratrun   474183       24   49595531   \n",
       "3  22867003  kailashdhirwani  4112063       21   41572536   \n",
       "4  28842671          Heinz_V    91490       19   21051608   \n",
       "\n",
       "              timestamp  \n",
       "0  2017-05-27T11:56:44Z  \n",
       "1  2012-08-31T15:58:03Z  \n",
       "2  2017-06-16T15:58:28Z  \n",
       "3  2016-08-20T08:56:44Z  \n",
       "4  2014-03-11T19:47:18Z  "
      ]
     },
     "execution_count": 144,
     "metadata": {},
     "output_type": "execute_result"
    }
   ],
   "source": [
    "df3=pd.read_csv('/root/ways.csv')\n",
    "df3.head()"
   ]
  },
  {
   "cell_type": "markdown",
   "metadata": {},
   "source": [
    "**iv.Displaying the content of Ways_tags data below**"
   ]
  },
  {
   "cell_type": "code",
   "execution_count": 199,
   "metadata": {},
   "outputs": [
    {
     "data": {
      "text/html": [
       "<div>\n",
       "<table border=\"1\" class=\"dataframe\">\n",
       "  <thead>\n",
       "    <tr style=\"text-align: right;\">\n",
       "      <th></th>\n",
       "      <th>id</th>\n",
       "      <th>key</th>\n",
       "      <th>value</th>\n",
       "      <th>type</th>\n",
       "    </tr>\n",
       "  </thead>\n",
       "  <tbody>\n",
       "    <tr>\n",
       "      <th>0</th>\n",
       "      <td>22826379</td>\n",
       "      <td>landuse</td>\n",
       "      <td>residential</td>\n",
       "      <td>regular</td>\n",
       "    </tr>\n",
       "    <tr>\n",
       "      <th>1</th>\n",
       "      <td>22866823</td>\n",
       "      <td>ref</td>\n",
       "      <td>SH17</td>\n",
       "      <td>regular</td>\n",
       "    </tr>\n",
       "    <tr>\n",
       "      <th>2</th>\n",
       "      <td>22866823</td>\n",
       "      <td>oneway</td>\n",
       "      <td>yes</td>\n",
       "      <td>regular</td>\n",
       "    </tr>\n",
       "    <tr>\n",
       "      <th>3</th>\n",
       "      <td>22866823</td>\n",
       "      <td>highway</td>\n",
       "      <td>primary</td>\n",
       "      <td>regular</td>\n",
       "    </tr>\n",
       "    <tr>\n",
       "      <th>4</th>\n",
       "      <td>22867000</td>\n",
       "      <td>highway</td>\n",
       "      <td>primary</td>\n",
       "      <td>regular</td>\n",
       "    </tr>\n",
       "  </tbody>\n",
       "</table>\n",
       "</div>"
      ],
      "text/plain": [
       "         id      key        value     type\n",
       "0  22826379  landuse  residential  regular\n",
       "1  22866823      ref         SH17  regular\n",
       "2  22866823   oneway          yes  regular\n",
       "3  22866823  highway      primary  regular\n",
       "4  22867000  highway      primary  regular"
      ]
     },
     "execution_count": 199,
     "metadata": {},
     "output_type": "execute_result"
    }
   ],
   "source": [
    "df4=pd.read_csv('/root/ways_tags.csv')\n",
    "df4.head()"
   ]
  },
  {
   "cell_type": "markdown",
   "metadata": {},
   "source": [
    "**v.Displaying the content of Ways_nodes data **"
   ]
  },
  {
   "cell_type": "code",
   "execution_count": 146,
   "metadata": {
    "scrolled": true
   },
   "outputs": [
    {
     "data": {
      "text/html": [
       "<div>\n",
       "<table border=\"1\" class=\"dataframe\">\n",
       "  <thead>\n",
       "    <tr style=\"text-align: right;\">\n",
       "      <th></th>\n",
       "      <th>id</th>\n",
       "      <th>node_id</th>\n",
       "      <th>position</th>\n",
       "    </tr>\n",
       "  </thead>\n",
       "  <tbody>\n",
       "    <tr>\n",
       "      <th>0</th>\n",
       "      <td>22826379</td>\n",
       "      <td>245711443</td>\n",
       "      <td>0</td>\n",
       "    </tr>\n",
       "    <tr>\n",
       "      <th>1</th>\n",
       "      <td>22826379</td>\n",
       "      <td>245711438</td>\n",
       "      <td>1</td>\n",
       "    </tr>\n",
       "    <tr>\n",
       "      <th>2</th>\n",
       "      <td>22826379</td>\n",
       "      <td>245711446</td>\n",
       "      <td>2</td>\n",
       "    </tr>\n",
       "    <tr>\n",
       "      <th>3</th>\n",
       "      <td>22826379</td>\n",
       "      <td>245711465</td>\n",
       "      <td>3</td>\n",
       "    </tr>\n",
       "    <tr>\n",
       "      <th>4</th>\n",
       "      <td>22826379</td>\n",
       "      <td>245711482</td>\n",
       "      <td>4</td>\n",
       "    </tr>\n",
       "  </tbody>\n",
       "</table>\n",
       "</div>"
      ],
      "text/plain": [
       "         id    node_id  position\n",
       "0  22826379  245711443         0\n",
       "1  22826379  245711438         1\n",
       "2  22826379  245711446         2\n",
       "3  22826379  245711465         3\n",
       "4  22826379  245711482         4"
      ]
     },
     "execution_count": 146,
     "metadata": {},
     "output_type": "execute_result"
    }
   ],
   "source": [
    "df5=pd.read_csv('/root/ways_nodes.csv')\n",
    "df5.head()"
   ]
  },
  {
   "cell_type": "markdown",
   "metadata": {},
   "source": [
    "### The Overview Statistics of The Dataset and Database Queries**"
   ]
  },
  {
   "cell_type": "code",
   "execution_count": 147,
   "metadata": {},
   "outputs": [
    {
     "name": "stdout",
     "output_type": "stream",
     "text": [
      "The ahmedabad.osm file is 113.845494 MB\n",
      "The project.db file is 0.360448 MB\n",
      "The nodes.csv file is 45.16309 MB\n",
      "The nodes_tags.csv file is 45.16309 MB\n",
      "The ways.csv file is 4.851864 MB\n",
      "The ways_tags.csv is 2.980204 MB\n",
      "The ways_nodes.csv is 15.336533 MB\n"
     ]
    }
   ],
   "source": [
    "print('The ahmedabad.osm file is {} MB'.format(os.path.getsize('ahmedabad.osm')/1.0e6))\n",
    "print('The project.db file is {} MB'.format(os.path.getsize('project3.db')/1.0e6))\n",
    "print('The nodes.csv file is {} MB'.format(os.path.getsize('nodes.csv')/1.0e6))\n",
    "print('The nodes_tags.csv file is {} MB'.format(os.path.getsize('nodes.csv')/1.0e6))\n",
    "print('The ways.csv file is {} MB'.format(os.path.getsize('ways.csv')/1.0e6))\n",
    "print('The ways_tags.csv is {} MB'.format(os.path.getsize('ways_tags.csv')/1.0e6))\n",
    "print('The ways_nodes.csv is {} MB'.format(os.path.getsize('ways_nodes.csv')/1.0e6)) # Convert from bytes to MB"
   ]
  },
  {
   "cell_type": "markdown",
   "metadata": {},
   "source": [
    "### Create SQL Database and Tables"
   ]
  },
  {
   "cell_type": "code",
   "execution_count": 134,
   "metadata": {
    "collapsed": true
   },
   "outputs": [],
   "source": []
  },
  {
   "cell_type": "code",
   "execution_count": null,
   "metadata": {},
   "outputs": [],
   "source": []
  },
  {
   "cell_type": "code",
   "execution_count": 148,
   "metadata": {},
   "outputs": [],
   "source": [
    "# creating table Nodes and insertring values from nodes.csv file\n",
    "cur.execute(\"CREATE TABLE Nodes(id, lat, lon, user, uid, version, changeset, timestamp);\")\n",
    "with open('nodes.csv','rb') as fin:\n",
    "    dr = csv.DictReader(fin) \n",
    "    values = [(i['id'], i['lat'], i['lon'], i['user'], i['uid'], i['version'], i['changeset'], i['timestamp'])for i in dr]\n",
    "cur.executemany(\"INSERT INTO Nodes VALUES (?, ?, ?, ?, ?, ?, ?, ?);\", values)\n",
    "con.commit()\n",
    "\n",
    "#create table Nodes_tags and inserting values from nodes_tags.csv file \n",
    "cur.execute(\"CREATE TABLE Nodes_tags (id, key, value, type);\")\n",
    "with open('nodes_tags.csv','rb') as fin:\n",
    "    dr = csv.DictReader(fin) \n",
    "    values = [(i['id'], i['key'], i['value'], i['type']) for i in dr]\n",
    "cur.executemany(\"INSERT INTO Nodes_tags VALUES (?, ?, ?, ?);\", values)\n",
    "con.commit()\n",
    "\n",
    "#Create table Ways and inserting values from ways.csv file\n",
    "cur.execute(\"CREATE TABLE Ways (id, user, uid, version, changeset, timestamp);\")\n",
    "with open('ways.csv','rb') as fin:\n",
    "    dr = csv.DictReader(fin) \n",
    "    values = [(i['id'], i['user'], i['uid'], i['version'], i['changeset'], i['timestamp']) for i in dr]\n",
    "cur.executemany(\"INSERT INTO Ways VALUES (?, ?, ?, ?, ?, ?);\", values)\n",
    "con.commit()\n",
    "\n",
    "#Create table Ways_nodes inserting values from ways_nodes.csv file\n",
    "cur.execute(\"CREATE TABLE Ways_nodes (id, node_id, position);\")\n",
    "with open('ways_nodes.csv','rb') as fin:\n",
    "    dr = csv.DictReader(fin) \n",
    "    values = [(i['id'], i['node_id'], i['position']) for i in dr]\n",
    "cur.executemany(\"INSERT INTO Ways_nodes VALUES (?, ?, ?);\", values)\n",
    "con.commit()\n",
    "\n",
    "#Create table Ways_tags inserting values from ways_nodes.csv file\n",
    "cur.execute(\"CREATE TABLE Ways_tags (id, key, value, type);\")\n",
    "with open('ways_tags.csv','rb') as fin:\n",
    "    dr = csv.DictReader(fin) \n",
    "    values = [(i['id'], i['key'], i['value'], i['type']) for i in dr]\n",
    "cur.executemany(\"INSERT INTO Ways_tags VALUES (?, ?, ?, ?);\", values)\n",
    "con.commit()\n"
   ]
  },
  {
   "cell_type": "markdown",
   "metadata": {},
   "source": [
    "### Number of Nodes."
   ]
  },
  {
   "cell_type": "code",
   "execution_count": 149,
   "metadata": {},
   "outputs": [
    {
     "name": "stdout",
     "output_type": "stream",
     "text": [
      "[(546239,)]\n"
     ]
    }
   ],
   "source": [
    "cur.execute(\"SELECT COUNT(*) FROM Nodes;\")\n",
    "print(cur.fetchall())"
   ]
  },
  {
   "cell_type": "markdown",
   "metadata": {},
   "source": [
    "### Number of ways."
   ]
  },
  {
   "cell_type": "code",
   "execution_count": 150,
   "metadata": {},
   "outputs": [
    {
     "name": "stdout",
     "output_type": "stream",
     "text": [
      "[(81280,)]\n"
     ]
    }
   ],
   "source": [
    "cur.execute(\"SELECT COUNT(*) FROM Ways;\")\n",
    "print(cur.fetchall())"
   ]
  },
  {
   "cell_type": "markdown",
   "metadata": {},
   "source": [
    "### Number of unique users\n"
   ]
  },
  {
   "cell_type": "code",
   "execution_count": 151,
   "metadata": {},
   "outputs": [
    {
     "name": "stdout",
     "output_type": "stream",
     "text": [
      "[(356,)]\n"
     ]
    }
   ],
   "source": [
    "cur.execute(\"SELECT COUNT(DISTINCT(e.uid)) FROM (SELECT uid FROM Nodes UNION ALL SELECT uid FROM Ways) e;\")\n",
    "print(cur.fetchall())\n",
    "\n"
   ]
  },
  {
   "cell_type": "markdown",
   "metadata": {},
   "source": [
    "### Top 10 contributing users."
   ]
  },
  {
   "cell_type": "code",
   "execution_count": 152,
   "metadata": {},
   "outputs": [
    {
     "name": "stdout",
     "output_type": "stream",
     "text": [
      "[('uday01', 177332),\n",
      " ('sramesh', 136709),\n",
      " ('chaitanya110', 123135),\n",
      " ('shashi2', 49502),\n",
      " ('shravan91', 22693),\n",
      " ('vkvora', 21967),\n",
      " ('shiva05', 19669),\n",
      " ('bhanu3', 12515),\n",
      " ('Oberaffe', 7094),\n",
      " ('kailashdhirwani', 5847)]\n"
     ]
    }
   ],
   "source": [
    "import pprint\n",
    "cur.execute(\"SELECT e.user, COUNT(*) as num FROM (SELECT user FROM Nodes UNION ALL SELECT user FROM Ways) e GROUP BY e.user ORDER BY num DESC LIMIT 10;\")\n",
    "pprint.pprint(cur.fetchall())\n"
   ]
  },
  {
   "cell_type": "markdown",
   "metadata": {},
   "source": [
    "### Count Tourism Related Categories Descending"
   ]
  },
  {
   "cell_type": "code",
   "execution_count": 165,
   "metadata": {},
   "outputs": [
    {
     "name": "stdout",
     "output_type": "stream",
     "text": [
      "[('attraction', 52),\n",
      " ('hotel', 32),\n",
      " ('hostel', 20),\n",
      " ('guest_house', 14),\n",
      " ('information', 9),\n",
      " ('museum', 8),\n",
      " ('motel', 3),\n",
      " ('zoo', 2),\n",
      " ('artwork', 1),\n",
      " ('viewpoint', 1)]\n"
     ]
    }
   ],
   "source": [
    "import pprint\n",
    "cur.execute (\"SELECT tags.value, COUNT(*) as count FROM (SELECT * FROM Nodes_tags UNION ALL \\\n",
    "             SELECT * FROM Ways_tags) tags \\\n",
    "             WHERE tags.key LIKE '%tourism'\\\n",
    "             GROUP BY tags.value \\\n",
    "             ORDER BY count DESC;\")\n",
    "pprint.pprint(cur.fetchall())"
   ]
  },
  {
   "cell_type": "markdown",
   "metadata": {},
   "source": [
    "### Number of coffee chains in the Area"
   ]
  },
  {
   "cell_type": "code",
   "execution_count": 154,
   "metadata": {},
   "outputs": [
    {
     "name": "stdout",
     "output_type": "stream",
     "text": [
      "[('Cafe Coffee Day', 3),\n",
      " ('Barrista, Vijay 4 Roads', 1),\n",
      " ('Chai Gate!!!', 1),\n",
      " ('Chocolate Room', 1),\n",
      " ('Cyber Cafe', 1)]\n"
     ]
    }
   ],
   "source": [
    "cur.execute (\"SELECT Nodes_tags.value, COUNT(*) as num FROM Nodes_tags JOIN (SELECT DISTINCT(id) \\\n",
    "             FROM Nodes_tags WHERE value='cafe') i ON Nodes_tags.id=i.id WHERE Nodes_tags.key='name' \\\n",
    "             GROUP BY Nodes_tags.value ORDER BY num DESC LIMIT 5;\")\n",
    "\n",
    "pprint.pprint(cur.fetchall())"
   ]
  },
  {
   "cell_type": "markdown",
   "metadata": {},
   "source": [
    "### Number of different items on the same name in Area."
   ]
  },
  {
   "cell_type": "code",
   "execution_count": 155,
   "metadata": {},
   "outputs": [
    {
     "name": "stdout",
     "output_type": "stream",
     "text": [
      "[('tree', 30),\n",
      " ('Tree', 15),\n",
      " ('Orchir white field', 14),\n",
      " ('Palm Greens', 6),\n",
      " ('Bank of Baroda', 5),\n",
      " ('Memnagar', 4),\n",
      " ('Cafe Coffee Day', 3),\n",
      " ('Chandkheda', 3),\n",
      " ('D Mart', 3),\n",
      " ('Fuel', 3),\n",
      " ('Gita Mandir', 3),\n",
      " ('Maninagar', 3),\n",
      " ('Mukhwaas', 3),\n",
      " ('Subway', 3),\n",
      " ('Temple', 3),\n",
      " ('Ahmedabad', 2),\n",
      " ('Amul', 2),\n",
      " ('BJ Medical College ,Haripura -Asarwa', 2),\n",
      " ('Barejadi Railway Station', 2),\n",
      " ('Bhadaj', 2),\n",
      " ('Bhavsar Hostel', 2),\n",
      " ('Bird Feeder', 2),\n",
      " ('Central Bank of India', 2),\n",
      " ('GMDC', 2),\n",
      " ('Gayatri Mandir', 2),\n",
      " ('Gurukul', 2),\n",
      " ('HDFC Bank', 2),\n",
      " ('HDFC Bank Relief Road Branch', 2),\n",
      " ('Income Tax Office', 2),\n",
      " ('Indian Bank', 2)]\n"
     ]
    }
   ],
   "source": [
    "#Finding how many different items are there on the same name\n",
    "cur.execute(\"select value,COUNT(*) as cnt \\\n",
    "             from Nodes_tags where key='name' \\\n",
    "             group by value order by cnt DESC limit 30;\")\n",
    "pprint.pprint(cur.fetchall())\n"
   ]
  },
  {
   "cell_type": "markdown",
   "metadata": {},
   "source": [
    "### Top 5 Most Popular Fast Food Chain"
   ]
  },
  {
   "cell_type": "code",
   "execution_count": 156,
   "metadata": {},
   "outputs": [
    {
     "name": "stdout",
     "output_type": "stream",
     "text": [
      "[('TGB', 2),\n",
      " ('Amul', 1),\n",
      " ('Asharfilal Kulfi', 1),\n",
      " ('Gol Limbda Bhajiya and Nashta House', 1),\n",
      " ('Jasuben Pizza', 1)]\n"
     ]
    }
   ],
   "source": [
    "cur.execute (\"SELECT Nodes_tags.value, COUNT(*) as num FROM Nodes_tags JOIN (SELECT DISTINCT(id) \\\n",
    "             FROM Nodes_tags WHERE value='fast_food') i ON Nodes_tags.id=i.id WHERE Nodes_tags.key='name' \\\n",
    "             GROUP BY Nodes_tags.value ORDER BY num DESC LIMIT 5;\")\n",
    "\n",
    "pprint.pprint(cur.fetchall())"
   ]
  },
  {
   "cell_type": "markdown",
   "metadata": {},
   "source": [
    "### No of Oneways in the Area"
   ]
  },
  {
   "cell_type": "code",
   "execution_count": 202,
   "metadata": {},
   "outputs": [
    {
     "name": "stdout",
     "output_type": "stream",
     "text": [
      "[('no', 1752)]\n"
     ]
    }
   ],
   "source": [
    "cur.execute(\"select value,COUNT(*) as cnt \\\n",
    "             from Ways_tags where key='oneway';\")\n",
    "pprint.pprint(cur.fetchall())\n"
   ]
  },
  {
   "cell_type": "code",
   "execution_count": 204,
   "metadata": {},
   "outputs": [],
   "source": [
    "import folium\n",
    "\n",
    "\n"
   ]
  },
  {
   "cell_type": "markdown",
   "metadata": {},
   "source": [
    "## Conclusion:\n",
    "\n",
    "From the above analysis exploring Ahmedabad city is much easier and we will be able to find out several informations about the city,The city Ahmedabad has 546239 Nodes and 81280 Ways in which 1752 are oneways, we an also find out the number of Fastfood chains in the city as well as several other information about the city, but we cannot predict this as accurate analysis because of human contribution and the result may vary."
   ]
  },
  {
   "cell_type": "code",
   "execution_count": null,
   "metadata": {
    "collapsed": true
   },
   "outputs": [],
   "source": []
  }
 ],
 "metadata": {
  "kernelspec": {
   "display_name": "Python 3",
   "language": "python",
   "name": "python3"
  },
  "language_info": {
   "codemirror_mode": {
    "name": "ipython",
    "version": 3
   },
   "file_extension": ".py",
   "mimetype": "text/x-python",
   "name": "python",
   "nbconvert_exporter": "python",
   "pygments_lexer": "ipython3",
   "version": "3.6.1"
  }
 },
 "nbformat": 4,
 "nbformat_minor": 1
}
